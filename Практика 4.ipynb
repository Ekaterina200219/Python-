{
 "cells": [
  {
   "cell_type": "markdown",
   "id": "95bf9b4d",
   "metadata": {},
   "source": [
    "# Задание 1 \n",
    "Создайте класс Soda (для определения типа газированной воды), принимающий 1 аргумент при инициализации (отвечающий за добавку к выбираемому лимонаду). В этом классе реализуйте метод show_my_drink(), выводящий на печать «Газировка и {ДОБАВКА}» в случае наличия добавки, а иначе отобразится следующая фраза: «Обычная газировка».\n"
   ]
  },
  {
   "cell_type": "code",
   "execution_count": 1,
   "id": "38e949a7",
   "metadata": {},
   "outputs": [],
   "source": [
    "class Soda:\n",
    "    \n",
    "    def __init__(self, supplement):\n",
    "        self.supplement = supplement\n",
    "        \n",
    "    def show_my_drink(self):\n",
    "        if self.supplement:\n",
    "            print(f'Газировка и {self.supplement}')\n",
    "        else:\n",
    "            print(\"Обычная газировка\")\n",
    "       "
   ]
  },
  {
   "cell_type": "code",
   "execution_count": 2,
   "id": "e3c05714",
   "metadata": {},
   "outputs": [
    {
     "name": "stdout",
     "output_type": "stream",
     "text": [
      "Обычная газировка\n",
      "Газировка и вишня\n"
     ]
    }
   ],
   "source": [
    "Soda(\"\").show_my_drink()\n",
    "Soda(\"вишня\").show_my_drink()"
   ]
  },
  {
   "cell_type": "markdown",
   "id": "20ce5c25",
   "metadata": {},
   "source": [
    "# Задание 2\n",
    "Николай – оригинальный человек. Он решил создать класс Nikola, принимающий при инициализации 2 параметра: имя и возраст. Но на этом он не успокоился. Не важно, какое имя передаст пользователь при создании экземпляра, оно всегда будет содержать “Николая”. В частности - если пользователя на самом деле зовут Николаем, то с именем ничего не произойдет, а если его зовут, например, Максим, то оно преобразуется в “Я не Максим, а Николай”. Более того, никаких других атрибутов и методов у экземпляра не может быть добавлено, даже если кто-то и вздумает так поступить (т.е. если некий пользователь решит прибавить к экземпляру свойство «отчество» или метод «приветствие», то ничего у такого хитреца не получится).\n",
    "\n",
    "(ПОДСКАЗКА. Для ограничения количества наборов свойств и методов в экземпляре применяется специальный магический атрибут slots.)"
   ]
  },
  {
   "cell_type": "code",
   "execution_count": 3,
   "id": "1e618eb2",
   "metadata": {},
   "outputs": [],
   "source": [
    "class Nikola:\n",
    "    \n",
    "    __slots__ = ['name', 'age']\n",
    "    def __init__(self, name, age):\n",
    "        self.name = \"Николай\"\n",
    "        self.age = age\n",
    "        if self.name != name:\n",
    "            print(f'Я не {name}, а {self.name}')"
   ]
  },
  {
   "cell_type": "code",
   "execution_count": 6,
   "id": "da8849e0",
   "metadata": {},
   "outputs": [
    {
     "name": "stdout",
     "output_type": "stream",
     "text": [
      "Я не Максим, а Николай\n"
     ]
    },
    {
     "data": {
      "text/plain": [
       "<__main__.Nikola at 0x22b0800c2b0>"
      ]
     },
     "execution_count": 6,
     "metadata": {},
     "output_type": "execute_result"
    }
   ],
   "source": [
    "Nikola(\"Максим\", 15)"
   ]
  },
  {
   "cell_type": "markdown",
   "id": "4feaa947",
   "metadata": {},
   "source": [
    "# Задание 3 \n",
    "Николаю требуется проверить, возможно ли из представленных отрезков условной длины сформировать треугольник. \n",
    "Для этого он решил создать класс TriangleChecker, принимающий только положительные числа. \n",
    "С помощью метода is_triangle() возвращаются следующие значения (в зависимости от ситуации):\n",
    "– Ура, можно построить треугольник!;\n",
    "– С отрицательными числами ничего не выйдет!;\n",
    "– Нужно вводить только числа!;\n",
    "– Жаль, но из этого треугольник не сделать.\n"
   ]
  },
  {
   "cell_type": "code",
   "execution_count": 7,
   "id": "65345b26",
   "metadata": {},
   "outputs": [],
   "source": [
    "class TriangleChecker:\n",
    "    def __init__(self, a1, a2, a3):\n",
    "        self.a1 = a1\n",
    "        self.a2 = a2\n",
    "        self.a3 = a3\n",
    "    def is_triangle(self):\n",
    "            b1 = isinstance(self.a1, (int, float))\n",
    "            b2 = isinstance(self.a2, (int, float))\n",
    "            b3 = isinstance(self.a3, (int, float))\n",
    "            if b1 and b2 and b3:\n",
    "                if (self.a1 < 0 or self.a2 < 0 or self.a3 < 0):\n",
    "                    print(\"С отрицательными числами ничего не выйдет\")\n",
    "                else:\n",
    "                    if (self.a1 != 0 and self.a2 != 0 and self.a3 != 0)and(self.a1 + self.a2 > self.a3 or self.a1 + self.a3 > self.a2 or self.a2 + self.a3 > self.a1):\n",
    "                        print(\"Ура, можно построить треугольник!\")\n",
    "                    else:\n",
    "                        print(\"Жаль, но из этого треугольник не сделать\")\n",
    "            else:\n",
    "                print('Нужно вводить только числа!')\n"
   ]
  },
  {
   "cell_type": "code",
   "execution_count": 8,
   "id": "0fb173c9",
   "metadata": {},
   "outputs": [
    {
     "name": "stdout",
     "output_type": "stream",
     "text": [
      "С отрицательными числами ничего не выйдет\n"
     ]
    }
   ],
   "source": [
    "TriangleChecker(10,-1,3).is_triangle()"
   ]
  },
  {
   "cell_type": "markdown",
   "id": "f7cb5078",
   "metadata": {},
   "source": [
    "# Задание 4\n",
    "Евгения создала класс KgToPounds с параметром kg, куда передается определенное количество килограмм, а с помощью метода to_pounds() они переводятся в фунты. Чтобы закрыть доступ к переменной “kg” она реализовала методы set_kg() - для задания нового значения килограммов, get_kg()  - для вывода текущего значения кг. Из-за этого возникло неудобство: нам нужно теперь использовать эти 2 метода для задания и вывода значений. Помогите ей переделать класс с использованием функции property() и свойств-декораторов. Код приведен ниже.\n",
    "\n",
    "(ПОДСКАЗКА Чтобы не задавать новые значения или не получать к ним доступ через два метода, можно реализовать предложенный класс через функцию property() или свойства-декораторы.\n",
    "ПОДСКАЗКА 2 (функция property()). https://habr.com/ru/company/otus/blog/557804/\n",
    "ПОДСКАЗКА 3 (декораторы). https://tproger.ru/translations/demystifying-decorators-in-python/ )\n"
   ]
  },
  {
   "cell_type": "code",
   "execution_count": 41,
   "id": "7e3dac1f",
   "metadata": {},
   "outputs": [],
   "source": [
    "class KgToPounds:\n",
    "\n",
    "    def __init__(self):\n",
    "        self.__kg = None\n",
    "\n",
    "    def to_pounds(self):\n",
    "        return self.__kg * 2.205\n",
    "\n",
    "    def set_kg(self, new_kg):\n",
    "        if isinstance(new_kg, (int, float)):\n",
    "            self.__kg = new_kg\n",
    "        else:\n",
    "            raise ValueError('Килограммы задаются только числами')\n",
    "    \n",
    "    def get_kg(self):\n",
    "        return self.__kg\n",
    "    \n",
    "    kg = property(get_kg, set_kg) #с декоратором не совсем поняла"
   ]
  },
  {
   "cell_type": "code",
   "execution_count": 42,
   "id": "2fdcdfd6",
   "metadata": {
    "scrolled": true
   },
   "outputs": [
    {
     "name": "stdout",
     "output_type": "stream",
     "text": [
      "None\n",
      "7\n"
     ]
    },
    {
     "data": {
      "text/plain": [
       "15.435"
      ]
     },
     "execution_count": 42,
     "metadata": {},
     "output_type": "execute_result"
    }
   ],
   "source": [
    "x = KgToPounds()\n",
    "print(x.kg)\n",
    "x.kg = 7\n",
    "print(x.kg)\n",
    "x.to_pounds()"
   ]
  },
  {
   "cell_type": "markdown",
   "id": "186519f9",
   "metadata": {},
   "source": [
    "# Задание 5 \n",
    "Строки в Питоне сравниваются на основании значений символов. Т.е. если мы захотим выяснить, что больше: «Apple» или «Яблоко», – то «Яблоко» окажется бОльшим. А все потому, что английская буква «A» имеет значение 65 (берется из таблицы кодировки), а русская буква «Я» – 1071 (с помощью функции ord() это можно выяснить). Такое положение дел не устроило Анну. Она считает, что строки нужно сравнивать по количеству входящих в них символов. Для этого девушка создала класс RealString и реализовала озвученный инструментарий. Сравнивать между собой можно как объекты класса, так и обычные строки с экземплярами класса RealString. К слову, Анне понадобилось только 3 метода внутри класса (включая __init__()) для воплощения задуманного.\n",
    "\n"
   ]
  },
  {
   "cell_type": "code",
   "execution_count": 11,
   "id": "67de6171",
   "metadata": {},
   "outputs": [],
   "source": [
    "class RealString:\n",
    "    def __init__(self, string_1, string_2):\n",
    "        self.string_1 = len(string_1)\n",
    "        self.string_2 = len(string_2)\n",
    "        self.res = self.string_1 - self.string_2\n",
    "\n",
    "    def comparison(self):\n",
    "        if self.res > 0:\n",
    "            print(f\"Первая строка больше второй строки на {self.res}\")\n",
    "        elif self.res < 0:\n",
    "            print(f\"Вторая строка больше первой строки на {-self.res}\")\n",
    "        else:\n",
    "            print(\"Строки равны по длине\")"
   ]
  },
  {
   "cell_type": "code",
   "execution_count": 13,
   "id": "07b26917",
   "metadata": {},
   "outputs": [
    {
     "name": "stdout",
     "output_type": "stream",
     "text": [
      "Вторая строка больше первой строки на 1\n"
     ]
    }
   ],
   "source": [
    "RealString(\"Apple\", \"Яблоко\").comparison()"
   ]
  }
 ],
 "metadata": {
  "kernelspec": {
   "display_name": "Python 3 (ipykernel)",
   "language": "python",
   "name": "python3"
  },
  "language_info": {
   "codemirror_mode": {
    "name": "ipython",
    "version": 3
   },
   "file_extension": ".py",
   "mimetype": "text/x-python",
   "name": "python",
   "nbconvert_exporter": "python",
   "pygments_lexer": "ipython3",
   "version": "3.8.13"
  }
 },
 "nbformat": 4,
 "nbformat_minor": 5
}
