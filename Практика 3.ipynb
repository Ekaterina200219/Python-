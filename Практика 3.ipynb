{
 "cells": [
  {
   "cell_type": "markdown",
   "id": "ec7ff2ec",
   "metadata": {},
   "source": [
    "# Задание 1 Иногда в жизни случаются ошибки. Но нужно уметь с ними работать. Напишите функцию в которой генерируются случайные цифры (0 и 1). и выполняет деление числа 10 на них. При делении на 0. должно выводится сообщение (“деление на 0”). ОСОБЕННОСТЬ. Выполнять данное задание необходимо через конструкцию TRY-EXCEPT\n"
   ]
  },
  {
   "cell_type": "code",
   "execution_count": 9,
   "id": "d91f46ea",
   "metadata": {},
   "outputs": [],
   "source": [
    "import random as rnd\n",
    "\n",
    "def random_numbers():\n",
    "    a = rnd.randint(0, 1)\n",
    "    print(a)\n",
    "    try:\n",
    "        10/a\n",
    "    except:\n",
    "        print(\"деление на 0\")"
   ]
  },
  {
   "cell_type": "code",
   "execution_count": 10,
   "id": "124d131e",
   "metadata": {},
   "outputs": [
    {
     "name": "stdout",
     "output_type": "stream",
     "text": [
      "1\n"
     ]
    }
   ],
   "source": [
    "random_numbers()"
   ]
  },
  {
   "cell_type": "markdown",
   "id": "ec2a0ec3",
   "metadata": {},
   "source": [
    "# Задание 2 Иногда нам необходимо как то сохранить данные на длительное время (а не только в оперативную память. Напишите функцию которая принимает строку и записывает ее в файл, если файла нет, она его создает, если уже есть то дописывает как новую строку\n"
   ]
  },
  {
   "cell_type": "code",
   "execution_count": 20,
   "id": "0db7abc8",
   "metadata": {},
   "outputs": [],
   "source": [
    "def File(file, string):\n",
    "    f = open(file + \".txt\", \"a\", encoding=\"utf-8\")\n",
    "    f.write(\"\\n\" + string)\n",
    "    f.close()"
   ]
  },
  {
   "cell_type": "code",
   "execution_count": 21,
   "id": "51cd28d5",
   "metadata": {},
   "outputs": [],
   "source": [
    "file = \"text\"\n",
    "string = \"Время — драгоценный подарок, данный нам, чтобы в нём стать умнее, лучше, зрелее и совершеннее.\"\n",
    "File(file, string)"
   ]
  },
  {
   "cell_type": "markdown",
   "id": "ac496a8c",
   "metadata": {},
   "source": [
    "# Задание 3 Научившись записывать в файл мы должны научится и доставать данные из него. Напишите функцию выводящую содержимое файла в консоль. Если файла нет то выводится сообщение “Файла нет” (эту часть задания можно решить и через if и через try) \n"
   ]
  },
  {
   "cell_type": "code",
   "execution_count": 30,
   "id": "046f6ab0",
   "metadata": {},
   "outputs": [],
   "source": [
    "def file_text(file):\n",
    "    try:\n",
    "        f = open(file + \".txt\", \"r\", encoding=\"utf-8\")\n",
    "        for string in f.readlines():\n",
    "            print(string.strip()) #Возвращает копию указанной строки, с обоих концов которой устранены указанные символы.\n",
    "        f.close()\n",
    "    except:\n",
    "        print(\"Файла нет\")"
   ]
  },
  {
   "cell_type": "code",
   "execution_count": 31,
   "id": "fde68f77",
   "metadata": {},
   "outputs": [
    {
     "name": "stdout",
     "output_type": "stream",
     "text": [
      "\n",
      "Время — драгоценный подарок, данный нам, чтобы в нём стать умнее, лучше, зрелее и совершеннее.\n",
      "Время — драгоценный подарок, данный нам, чтобы в нём стать умнее, лучше, зрелее и совершеннее.\n"
     ]
    }
   ],
   "source": [
    "file = \"text\"\n",
    "file_text(file)"
   ]
  },
  {
   "cell_type": "markdown",
   "id": "2211f9b7",
   "metadata": {},
   "source": [
    "# Задание 4 Продолжая работать с файлами важно не захламлять пространство и не терять что то важное. Напишите функцию которая создает копию файла, но при этом удаляет оригинал. \n"
   ]
  },
  {
   "cell_type": "code",
   "execution_count": 34,
   "id": "ab51051d",
   "metadata": {},
   "outputs": [],
   "source": [
    "import os\n",
    "\n",
    "def Copy_file(file, copy_file):\n",
    "    try:\n",
    "        orig = open(file + \".txt\", \"r\", encoding=\"utf-8\")\n",
    "        copy = open(copy_file + \".txt\", \"a\", encoding=\"utf-8\")\n",
    "        for str in orig.readlines():\n",
    "            copy.write(str)\n",
    "        orig.close()\n",
    "        os.remove(file)\n",
    "        copy.close()\n",
    "    except:\n",
    "        print(\"Файл не найден\")   "
   ]
  },
  {
   "cell_type": "code",
   "execution_count": 35,
   "id": "b1e53a17",
   "metadata": {},
   "outputs": [
    {
     "name": "stdout",
     "output_type": "stream",
     "text": [
      "Файл не найден\n"
     ]
    }
   ],
   "source": [
    "Copy_file(\"text\", \"roman\")"
   ]
  }
 ],
 "metadata": {
  "kernelspec": {
   "display_name": "Python 3 (ipykernel)",
   "language": "python",
   "name": "python3"
  },
  "language_info": {
   "codemirror_mode": {
    "name": "ipython",
    "version": 3
   },
   "file_extension": ".py",
   "mimetype": "text/x-python",
   "name": "python",
   "nbconvert_exporter": "python",
   "pygments_lexer": "ipython3",
   "version": "3.8.13"
  }
 },
 "nbformat": 4,
 "nbformat_minor": 5
}
