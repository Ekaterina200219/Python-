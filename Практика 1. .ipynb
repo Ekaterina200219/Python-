{
 "cells": [
  {
   "cell_type": "markdown",
   "id": "0ca6814d",
   "metadata": {},
   "source": [
    "# Задание 1. Для повышения эффективности работы инженера ему нужно быстрее считать. В этом ему поможет калькулятор. напишите калькулятор с функциями (+,-,*,/) а также возведение в степень, остаток от деления, извлечение корня. В случае невозможных вычислений он должен выдавать “Error”. \n"
   ]
  },
  {
   "cell_type": "code",
   "execution_count": 7,
   "id": "a7f8995a",
   "metadata": {},
   "outputs": [
    {
     "name": "stdout",
     "output_type": "stream",
     "text": [
      "Подсказка:\n",
      "+ сложение\n",
      "- вычитание\n",
      "* умножение\n",
      "/ деление\n",
      "** возведение в степень\n",
      "% остаток от деления\n",
      "sqrt извлечение корня\n",
      "Какое действие выполняем? (+, -, *, /, **, %, sqrt): **\n",
      "Введите первое число: 24.8\n",
      "Введите второе число: 5\n",
      "Результат: 9381200.19968\n"
     ]
    }
   ],
   "source": [
    "#import math\n",
    "\n",
    "print(\"Подсказка:\")\n",
    "print(\"+ сложение\")\n",
    "print(\"- вычитание\")\n",
    "print(\"* умножение\")\n",
    "print(\"/ деление\")\n",
    "print(\"** возведение в степень\")\n",
    "print(\"% остаток от деления\")\n",
    "print(\"sqrt извлечение корня\")\n",
    "operation = input('Какое действие выполняем? (+, -, *, /, **, %, sqrt): ')\n",
    "\n",
    "a = float(input('Введите первое число: ' ))\n",
    "b = float(input('Введите второе число: ' ))\n",
    "\n",
    "if operation == '+':\n",
    "    x = a + b\n",
    "    print('Результат: ' + str(x))\n",
    "elif operation == '-':\n",
    "    x = a - b \n",
    "    print('Результат: ' + str(x))\n",
    "elif operation == '*':\n",
    "    x = a * b\n",
    "    print('Результат: ' + str(x))\n",
    "elif operation == '/':\n",
    "    x = a / b\n",
    "    print('Результат: ' + str(x))\n",
    "elif operation == '**':\n",
    "    x = a ** b\n",
    "    print('Результат: ' + str(x))\n",
    "elif operation == '%':\n",
    "    x = a % b\n",
    "    print('Результат: ' + str(x))\n",
    "elif operation == 'sqrt':\n",
    "    x = pow(a, b)\n",
    "    print('Результат: ' + str(x))\n",
    "else:\n",
    "    print('Error')\n"
   ]
  },
  {
   "cell_type": "code",
   "execution_count": 8,
   "id": "ab211eaa",
   "metadata": {},
   "outputs": [
    {
     "name": "stdout",
     "output_type": "stream",
     "text": [
      "Подсказка:\n",
      "+ сложение\n",
      "- вычитание\n",
      "* умножение\n",
      "/ деление\n",
      "** возведение в степень\n",
      "% остаток от деления\n",
      "sqrt извлечение корня\n",
      "Какое действие выполняем? (+, -, *, /, **, %, sqrt): //\n",
      "Введите первое число: 32.9\n",
      "Введите второе число: 55\n",
      "Error\n"
     ]
    }
   ],
   "source": [
    "#import math\n",
    "\n",
    "print(\"Подсказка:\")\n",
    "print(\"+ сложение\")\n",
    "print(\"- вычитание\")\n",
    "print(\"* умножение\")\n",
    "print(\"/ деление\")\n",
    "print(\"** возведение в степень\")\n",
    "print(\"% остаток от деления\")\n",
    "print(\"sqrt извлечение корня\")\n",
    "operation = input('Какое действие выполняем? (+, -, *, /, **, %, sqrt): ')\n",
    "\n",
    "a = float(input('Введите первое число: ' ))\n",
    "b = float(input('Введите второе число: ' ))\n",
    "\n",
    "if operation == '+':\n",
    "    x = a + b\n",
    "    print('Результат: ' + str(x))\n",
    "elif operation == '-':\n",
    "    x = a - b\n",
    "    print('Результат: ' + str(x))\n",
    "elif operation == '*':\n",
    "    x = a * b\n",
    "    print('Результат: ' + str(x))\n",
    "elif operation == '/':\n",
    "    x = a / b\n",
    "    print('Результат: ' + str(x))\n",
    "elif operation == '**':\n",
    "    x = a ** b\n",
    "    print('Результат: ' + str(x))\n",
    "elif operation == '%':\n",
    "    x = a % b\n",
    "    print('Результат: ' + str(x))\n",
    "elif operation == 'sqrt':\n",
    "    x = pow(a, b)\n",
    "    print('Результат: ' + str(x))\n",
    "else:\n",
    "    print('Error')"
   ]
  },
  {
   "cell_type": "markdown",
   "id": "2f6f195d",
   "metadata": {},
   "source": [
    "# Задание 2. Руководителю иногда бывает сложно подобрать слова для речи. Помогите ему создав генератор случайных фраз из задаваемых слов. Генератор должен работать так: вы вводите существительные (по одному на строку), после чего идет “стоп слово” и вы пишете глаголы, также до “стоп слова”. После этого количество фраз которые нужно сгенерировать. и вывести фразы. с-существительное, г-глагол, типы фраз сгс,гсс,ссг. (Фразы могут иметь ошибки в склонениях и падежах) \n"
   ]
  },
  {
   "cell_type": "code",
   "execution_count": 3,
   "id": "7e3fd479",
   "metadata": {},
   "outputs": [],
   "source": [
    "import random as rnd\n",
    "from random import choice\n",
    "\n",
    "def Line():\n",
    "    word_list = []\n",
    "    stop_word = []\n",
    "    line_1 = []\n",
    "    line_2 = []\n",
    "    line_3 = []\n",
    "\n",
    "    word = \"\"\n",
    "    stop = \"\"\n",
    "    while word != \"стоп\":\n",
    "        word = str(input())\n",
    "        if word == \"стоп\":\n",
    "            break\n",
    "        word_list.append(word)\n",
    "\n",
    "    while stop != \"стоп\":\n",
    "        stop = str(input())\n",
    "        if stop == \"стоп\":\n",
    "            break\n",
    "        stop_word.append(stop)\n",
    "\n",
    "    line_1.append(rnd.choice(word_list)) #Возвращает случайный элемент из указанной последовательности.\n",
    "    line_1.append(rnd.choice(stop_word))\n",
    "    line_1.append(rnd.choice(word_list))\n",
    "\n",
    "    line_2.append(rnd.choice(stop_word))\n",
    "    line_2.append(rnd.choice(word_list))\n",
    "    line_2.append(rnd.choice(word_list))\n",
    "\n",
    "    line_3.append(rnd.choice(word_list))\n",
    "    line_3.append(rnd.choice(word_list))\n",
    "    line_3.append(rnd.choice(stop_word))\n",
    "    \n",
    "    print(line_1)\n",
    "    print(line_2)\n",
    "    print(line_3)\n",
    "    "
   ]
  },
  {
   "cell_type": "code",
   "execution_count": 4,
   "id": "f36e8604",
   "metadata": {
    "scrolled": true
   },
   "outputs": [
    {
     "name": "stdout",
     "output_type": "stream",
     "text": [
      "цветок\n",
      "лебедь\n",
      "дерево\n",
      "кошка\n",
      "стоп\n",
      "гулять\n",
      "бегать\n",
      "находится\n",
      "спать\n",
      "стоп\n",
      "['дерево', 'гулять', 'кошка']\n",
      "['бегать', 'кошка', 'дерево']\n",
      "['цветок', 'лебедь', 'гулять']\n"
     ]
    }
   ],
   "source": [
    "Line()"
   ]
  },
  {
   "cell_type": "markdown",
   "id": "bceaf21e",
   "metadata": {},
   "source": [
    "# Задание 3. Отлично, фразы получаются, но иногда руководитель пишет и свои речи и допускает ошибки. Нужно чтобы программа проверяла правильно ли написаны слова. Вводятся “правильные” слова которыми будет проверятся, после чего вводится предложение слова из которого проверяются. после выводятся слова с ошибками(ошибка отделяется пробелом справа и слева от буквы). ПОДСКАЗКА нужно проверять на минимальное отличие от “эталонного” слова. \n"
   ]
  },
  {
   "cell_type": "code",
   "execution_count": 13,
   "id": "e3256c6c",
   "metadata": {
    "scrolled": true
   },
   "outputs": [
    {
     "name": "stdout",
     "output_type": "stream",
     "text": [
      "Необходимо ввести правильные слова. Чтобы остановиться, надо ввести какое-нибудь число.\n",
      "цветок\n",
      "пальма \n",
      "облака \n",
      "цвет \n",
      "дыня\n",
      "школа\n",
      "1\n",
      "Необходимо ввести слово, которое хотите сравнить. Чтобы остановиться, надо ввести какое-нибудь число.\n",
      "цветок \n",
      "дыня\n",
      "облака\n",
      "1\n",
      "\n",
      "-ц--в--е--т--о--к- \n",
      "-ц--в--е--т--о--к- \n",
      "\n",
      "\n",
      "\n",
      "\n",
      "\n",
      "\n",
      "\n",
      "дыня\n",
      "\n",
      "\n",
      "\n",
      "\n",
      "\n",
      "\n"
     ]
    }
   ],
   "source": [
    "import random as rnd\n",
    "from random import choice\n",
    "from numpy import append\n",
    "\n",
    "def W():\n",
    "    word_list = []\n",
    "    print('Необходимо ввести правильные слова. Чтобы остановиться, надо ввести какое-нибудь число.')\n",
    "    word = str(input())\n",
    "    while word != \"1\":\n",
    "        word_list.append(word)\n",
    "        word = input()\n",
    "    return word_list\n",
    "\n",
    "def Word(word_list, str):\n",
    "    for element in word_list:\n",
    "        a = ''\n",
    "        b = 0\n",
    "        if len(str) == len(element):\n",
    "            for i in range(len(str)):\n",
    "                if element[i] == str[i]:\n",
    "                    a += element[i]\n",
    "                else:\n",
    "                    b += 1\n",
    "                    a += \"-\" + str[i] + \"-\"\n",
    "        if b < len(element):\n",
    "            print(a)\n",
    "            \n",
    "w = W()\n",
    "s = []\n",
    "print('Необходимо ввести слово, которое хотите сравнить. Чтобы остановиться, надо ввести какое-нибудь число.')\n",
    "str = input()\n",
    "while str != \"1\":\n",
    "    s.append(str)\n",
    "    str = input()\n",
    "for element in s:\n",
    "    Word(w, element)"
   ]
  },
  {
   "cell_type": "markdown",
   "id": "4440889e",
   "metadata": {},
   "source": [
    "# Задание 4. Для правильной работы нужно соблюдать ритм, чтобы не забывать отдыхать нужен таймер работы. Напишите таймер в который вводится количество часов минут и секунд и каждую секунду он выводит сколько осталось времени на таймере. ПОДСКАЗКА используйте модуль time \n"
   ]
  },
  {
   "cell_type": "code",
   "execution_count": 8,
   "id": "bccccd42",
   "metadata": {},
   "outputs": [],
   "source": [
    "import time\n",
    "\n",
    "def timer(t):\n",
    "    while t:\n",
    "        h = int(t / 3600)\n",
    "        m = int((t - h * 3600) / 60)\n",
    "        s = int(t - h * 3600 - m * 60)\n",
    "        timeformat = '{:02d}:{:02d}:{:02d}'.format(h, m, s)\n",
    "        print(timeformat, end='\\r')\n",
    "        time.sleep(1)\n",
    "        t -= 1\n",
    "    print()\n",
    "    print(\"stop\")"
   ]
  },
  {
   "cell_type": "code",
   "execution_count": 9,
   "id": "2a066057",
   "metadata": {},
   "outputs": [
    {
     "name": "stdout",
     "output_type": "stream",
     "text": [
      "00\n",
      "2\n",
      "10\n",
      "00:00:01\n",
      "stop\n"
     ]
    }
   ],
   "source": [
    "h = int(input())\n",
    "m = int(input())\n",
    "s = int(input())\n",
    "t = h * 3600 + m * 60 + s\n",
    "timer(t)"
   ]
  },
  {
   "cell_type": "code",
   "execution_count": 1,
   "id": "34f20afe",
   "metadata": {},
   "outputs": [
    {
     "name": "stdout",
     "output_type": "stream",
     "text": [
      "О чём вам напомнить?\n",
      "экзамен\n",
      "Через сколько минут?\n",
      "2\n",
      "экзамен\n"
     ]
    }
   ],
   "source": [
    "# Подключаем нужный модуль\n",
    "import time\n",
    "# Спрашиваем текст напоминания, который нужно потом показать пользователю\n",
    "print(\"О чём вам напомнить?\")\n",
    "# Ждём ответа пользователя и результат помещаем в строковую переменную text\n",
    "text = str(input())\n",
    "# Спрашиваем про время\n",
    "print(\"Через сколько минут?\")\n",
    "# Тут будем хранить время, через которое нужно показать напоминание\n",
    "local_time = float(input())\n",
    "# Переводим минуты в секунды\n",
    "local_time = local_time * 60\n",
    "# Ждём нужное количество секунд, программа в это время ничего не делает\n",
    "time.sleep(local_time)\n",
    "# Показываем текст напоминания\n",
    "print(text)"
   ]
  },
  {
   "cell_type": "markdown",
   "id": "9c6ec7fe",
   "metadata": {},
   "source": [
    "# Задание 5. Иногда после работы хорошо бы собраться и поиграть с товарищами в “шахты и вертолеты” но иногда на создание персонажей уходит слишком много времени. Напишите “генератор персонажей” генерирующий\n",
    "имя \n",
    "\n",
    "возраст \n",
    "\n",
    "класс апа\n",
    "\n",
    "параметры (можно взять параметры из Fallouta) \n",
    "\n",
    "характеристики (можно взять SPECIAL из Fallouta) \n",
    "\n",
    "навыки/особенности (случайное количество)\n"
   ]
  },
  {
   "cell_type": "code",
   "execution_count": 9,
   "id": "a6db628f",
   "metadata": {},
   "outputs": [
    {
     "name": "stdout",
     "output_type": "stream",
     "text": [
      "\n",
      "     Name: Ekaterina \n",
      "     Age: 31 \n",
      "     Class: Person \n",
      "     SPECIAL: {'Power': 36, 'Dexterity': 0, 'Endurance': 32, 'Intelligence': 43, 'Wisdom': 7, 'Charm': 81} \n",
      "     Stats: {'abc': 230, 'berrr': 140.4, 'p': 2152, 'ob': 172} \n",
      "     Features: ['Immortality', 'Fearlessness', 'Happiness']\n"
     ]
    }
   ],
   "source": [
    "import random as rnd\n",
    "from random import choice\n",
    "from numpy import append\n",
    "\n",
    "n = [\"Michael\", \"Andrey\", \"Margaret\", \"Ekaterina\"]\n",
    "name = rnd.choice(n)\n",
    "age = rnd.randint(25, 35)\n",
    "c = [\"Person\", \"Apa\", \"Building\"]\n",
    "class_1 = rnd.choice(c)\n",
    "SPECIAL = {\n",
    "    \"Power\" : rnd.randint(0, 50),\n",
    "    \"Dexterity\" : rnd.randint(0, 25),\n",
    "    \"Endurance\" : rnd.randint(0, 70),\n",
    "    \"Intelligence\" : rnd.randint(0, 90),\n",
    "    \"Wisdom\" : rnd.randint(0, 20),\n",
    "    \"Charm\" : rnd.randint(0, 100)\n",
    "}\n",
    "stats = {\n",
    "    \"abc\": 50 + SPECIAL[\"Power\"] * 5,\n",
    "    \"berrr\": 0.4 + SPECIAL[\"Wisdom\"] * 20,\n",
    "    \"p\": 2 + SPECIAL[\"Intelligence\"] * 50,\n",
    "    \"ob\": 10 + SPECIAL[\"Charm\"] * 2\n",
    "}\n",
    "f = []\n",
    "features = [\"Immortality\", \"A strong weapon\", \"Fearlessness\", \"Happiness\"]\n",
    "for i in range(rnd.randint(0, 5)):\n",
    "        f.append(rnd.choice(features)) \n",
    "        features.remove(f[i])\n",
    "print(f\"\\n \\\n",
    "    Name: {name} \\n \\\n",
    "    Age: {age} \\n \\\n",
    "    Class: {class_1} \\n \\\n",
    "    SPECIAL: {SPECIAL} \\n \\\n",
    "    Stats: {stats} \\n \\\n",
    "    Features: {features}\")"
   ]
  }
 ],
 "metadata": {
  "kernelspec": {
   "display_name": "Python 3 (ipykernel)",
   "language": "python",
   "name": "python3"
  },
  "language_info": {
   "codemirror_mode": {
    "name": "ipython",
    "version": 3
   },
   "file_extension": ".py",
   "mimetype": "text/x-python",
   "name": "python",
   "nbconvert_exporter": "python",
   "pygments_lexer": "ipython3",
   "version": "3.8.13"
  }
 },
 "nbformat": 4,
 "nbformat_minor": 5
}
